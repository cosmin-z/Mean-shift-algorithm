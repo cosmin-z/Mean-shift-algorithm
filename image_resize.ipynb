{
 "cells": [
  {
   "cell_type": "markdown",
   "id": "5c861938",
   "metadata": {},
   "source": [
    "# Cosmin Madalin Zaharia"
   ]
  },
  {
   "cell_type": "markdown",
   "id": "0a9ae5ba",
   "metadata": {},
   "source": [
    "### Factory image!"
   ]
  },
  {
   "cell_type": "markdown",
   "id": "4cc0d6e2",
   "metadata": {},
   "source": [
    "You can use the following snippet to remodel your image, you can reduce the size to your liking and get a new one!"
   ]
  },
  {
   "cell_type": "code",
   "execution_count": 2,
   "id": "e19246cf",
   "metadata": {},
   "outputs": [],
   "source": [
    "from PIL import Image\n",
    "import numpy as np\n",
    "import cv2"
   ]
  },
  {
   "cell_type": "markdown",
   "id": "7e00d05e",
   "metadata": {},
   "source": [
    "if you want to know the size of a certan image"
   ]
  },
  {
   "cell_type": "code",
   "execution_count": 6,
   "id": "62d29994",
   "metadata": {},
   "outputs": [
    {
     "name": "stdout",
     "output_type": "stream",
     "text": [
      "The image size is 1200 x 1600\n"
     ]
    }
   ],
   "source": [
    "img = Image.open('cow.jpeg')\n",
    "\n",
    "# Get the size of the image\n",
    "width, height = img.size\n",
    "\n",
    "# Print the size of the image\n",
    "print(f'The image size is {width} x {height}')"
   ]
  },
  {
   "cell_type": "markdown",
   "id": "a927fc17",
   "metadata": {},
   "source": [
    "resize the image"
   ]
  },
  {
   "cell_type": "code",
   "execution_count": 7,
   "id": "54d06872",
   "metadata": {},
   "outputs": [],
   "source": [
    "path = 'cow.jpeg'\n",
    "\n",
    "# Open the image file\n",
    "image_to_resize = Image.open(path)\n",
    "\n",
    "# Resize the image\n",
    "new_size = (300, 300)\n",
    "resized_img = image_to_resize.resize(new_size)\n",
    "\n",
    "# Save the new image to disk\n",
    "resized_img.save(path[:-5] + 'resized_image.jpg')"
   ]
  },
  {
   "cell_type": "code",
   "execution_count": null,
   "id": "9fdc435b",
   "metadata": {},
   "outputs": [],
   "source": []
  },
  {
   "cell_type": "markdown",
   "id": "6f981d44",
   "metadata": {},
   "source": [
    "### Applying Gaussian Smoothing"
   ]
  },
  {
   "cell_type": "code",
   "execution_count": 6,
   "id": "adc84c5f",
   "metadata": {},
   "outputs": [
    {
     "data": {
      "text/plain": [
       "True"
      ]
     },
     "execution_count": 6,
     "metadata": {},
     "output_type": "execute_result"
    }
   ],
   "source": [
    "img = cv2.imread('woman.jpeg')\n",
    "\n",
    "# Gaussian filter with kernel size 5 and standard deviation 2\n",
    "img_filtered = cv2.GaussianBlur(img, (5, 5), 2)\n",
    "\n",
    "cv2.imwrite('filtered_image.jpg', img_filtered)"
   ]
  },
  {
   "cell_type": "code",
   "execution_count": null,
   "id": "60519fc2",
   "metadata": {},
   "outputs": [],
   "source": []
  }
 ],
 "metadata": {
  "kernelspec": {
   "display_name": "Python 3",
   "language": "python",
   "name": "python3"
  },
  "language_info": {
   "codemirror_mode": {
    "name": "ipython",
    "version": 3
   },
   "file_extension": ".py",
   "mimetype": "text/x-python",
   "name": "python",
   "nbconvert_exporter": "python",
   "pygments_lexer": "ipython3",
   "version": "3.8.8"
  }
 },
 "nbformat": 4,
 "nbformat_minor": 5
}
