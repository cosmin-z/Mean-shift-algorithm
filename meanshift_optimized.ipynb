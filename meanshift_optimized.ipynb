{
 "cells": [
  {
   "cell_type": "markdown",
   "id": "ce30f606",
   "metadata": {},
   "source": [
    "# Cosmin Madalin Zaharia"
   ]
  },
  {
   "cell_type": "markdown",
   "id": "e5c72918",
   "metadata": {},
   "source": [
    "### Implementation of findpeak and meanshift optimazed"
   ]
  },
  {
   "cell_type": "code",
   "execution_count": 1,
   "id": "59ed98a6",
   "metadata": {},
   "outputs": [],
   "source": [
    "import scipy.io\n",
    "import os\n",
    "import pandas as pd\n",
    "import numpy as np\n",
    "import cv2\n",
    "import time\n",
    "from PIL import Image\n",
    "from tqdm import tqdm\n",
    "import matplotlib.pyplot as plt \n",
    "from mpl_toolkits.mplot3d import Axes3D\n",
    "from scipy.spatial.distance import cdist\n",
    "from scipy.spatial.distance import pdist\n",
    "from skimage.color import lab2rgb, rgb2lab\n",
    "from sklearn.metrics.pairwise import euclidean_distances"
   ]
  },
  {
   "cell_type": "markdown",
   "id": "6132efdf",
   "metadata": {},
   "source": [
    "## Run all the cells until to the test part"
   ]
  },
  {
   "cell_type": "markdown",
   "id": "3b25051d",
   "metadata": {},
   "source": [
    "<i><b>mean_cluster_and_basin</b></i> is function called by find_peak_opt used to find the cluster where a pixel belong and all the poins to associate to the same cluster (basin) during the search."
   ]
  },
  {
   "cell_type": "code",
   "execution_count": 2,
   "id": "58501bc4",
   "metadata": {},
   "outputs": [],
   "source": [
    "def mean_cluster_and_basin(data, point, r, c):\n",
    "        \n",
    "         #calculate the distance between the dataset and the point\n",
    "        distance = cdist(data.T, point.reshape((-1, 1)).T)\n",
    "        \n",
    "        #Now let's calculate the mean\n",
    "        #Since I want to get a (3,) vector, the axis = 1\n",
    "        centroid_point = np.mean(data[:, distance[:, 0] < r], axis=1)\n",
    "        \n",
    "        #calculate the basin\n",
    "        distance_to_mean = cdist(data.T, centroid_point.reshape((-1, 1)).T)\n",
    "        \n",
    "        #selects only those columns whose distance from the mean point is less than r/c.\n",
    "        basin = np.argwhere(distance_to_mean[:, 0] < r/c)[:,0]\n",
    "\n",
    "        return centroid_point, basin"
   ]
  },
  {
   "cell_type": "markdown",
   "id": "3ab1bd1a",
   "metadata": {},
   "source": [
    "According to the homework: here have a the find_peak_opt function, the same as in the previus notebook but optimazed and with speed up"
   ]
  },
  {
   "cell_type": "code",
   "execution_count": 3,
   "id": "7b90c4f2",
   "metadata": {},
   "outputs": [],
   "source": [
    "def find_peak_opt(data, idx, r, tau=0.01, c=4):\n",
    "        \n",
    "        \n",
    "        point = data[:,idx]\n",
    "        mean_point, basin =  mean_cluster_and_basin(data, point, r, c)\n",
    "        \n",
    "        #create a basin point to recover the points\n",
    "        basin_points = set(basin)\n",
    "        \n",
    "        while pdist(np.array([point, mean_point])) > tau:\n",
    "            point = mean_point\n",
    "            mean_point, basin =  mean_cluster_and_basin(data, point, r, c)\n",
    "\n",
    "            basin_points.update(basin)\n",
    "        \n",
    "        #this one is for taking those points <r\n",
    "        _, basin =  mean_cluster_and_basin(data, point, r, 1)\n",
    "        basin_points.update(basin)\n",
    "        \n",
    "        return np.array(mean_point), basin_points"
   ]
  },
  {
   "cell_type": "markdown",
   "id": "e22d3c62",
   "metadata": {},
   "source": [
    "Same meansfhit function but optimised"
   ]
  },
  {
   "cell_type": "code",
   "execution_count": 4,
   "id": "562517ba",
   "metadata": {},
   "outputs": [],
   "source": [
    "def meanshift_opt (data, r, c):\n",
    "    labels = np.zeros(data.shape[1])-1 \n",
    "    peaks = []\n",
    "    \n",
    "    peak, basin = find_peak_opt(data, 0 , r, 0.01, c)\n",
    "    labels[0] = 0\n",
    "    peaks.append(peak)\n",
    "    \n",
    "    for idx in tqdm(range(1, data.shape[1])):\n",
    "        if labels[idx] == -1:\n",
    "            peak, basin = find_peak_opt(data, idx, r, 0.01, c)\n",
    "            \n",
    "            #after you got the peak calculate the distance with the other peaks and see if it is smaller than r<2\n",
    "            distance= cdist(np.array(peaks), np.array([peak]))\n",
    "            peaks_around = np.argwhere(distance < r/2)\n",
    "\n",
    "            if len(peaks_around) > 0:\n",
    "                labels[idx] = peaks_around[0][0]\n",
    "                labels[list(basin)] = peaks_around[0][0]\n",
    "            else:\n",
    "                 #this means that we aren't the window so the peak doesn't belong to that cluster => we found a new cluster\n",
    "                labels[idx] = len(peaks)\n",
    "                labels[list(basin)] = len(peaks)\n",
    "                peaks.append(peak)\n",
    "\n",
    "    return labels, peaks"
   ]
  },
  {
   "cell_type": "markdown",
   "id": "84da6922",
   "metadata": {},
   "source": [
    "<br>"
   ]
  },
  {
   "cell_type": "markdown",
   "id": "72387d78",
   "metadata": {},
   "source": [
    "Here we have the implementation of the segmIm(im, r): renamed since I've also added the pre_processing part in the same code"
   ]
  },
  {
   "cell_type": "code",
   "execution_count": 5,
   "id": "febfaea6",
   "metadata": {},
   "outputs": [],
   "source": [
    "def pre_processing_and_segmentation(path, spatial_position, r, c):\n",
    "    \n",
    "    #read the image and covert in it into CIELAB color values\n",
    "    image = plt.imread(path)\n",
    "    image = rgb2lab(image)\n",
    "    height, width, num_channels = image.shape\n",
    "    \n",
    "    \n",
    "    if not spatial_position: \n",
    "        processed_image = image.reshape((height * width, num_channels)).T \n",
    "    \n",
    "    if spatial_position:\n",
    "        features = np.zeros((height,width, 5))\n",
    "        for y in range(height):\n",
    "            for x in range(width):\n",
    "                #add the spatial information\n",
    "                features[y, x] = np.append(image[y, x], [y, x]) \n",
    "        height, width, num_channels = features.shape\n",
    "        processed_image = features.reshape((height*width,  num_channels)).T\n",
    "    \n",
    "    start_time = time.time()\n",
    "    labels, peaks = meanshift_opt(processed_image, r, c)\n",
    "    end_time = time.time()\n",
    "    \n",
    "    # get the execution time\n",
    "    elapsed_time = end_time - start_time\n",
    "    \n",
    "    copy_peaks = peaks.copy()\n",
    "    copy_labels = labels.copy()\n",
    "    \n",
    "    # convert copy_peaks to integers\n",
    "    copy_peaks = np.array(copy_peaks).astype(int)\n",
    "\n",
    "    # reshape the array\n",
    "    matrix_reshaped = processed_image.T\n",
    "    \n",
    "    for i, pixel in enumerate(matrix_reshaped):\n",
    "        matrix_reshaped[i] = copy_peaks[int(copy_labels[i])]\n",
    "\n",
    "\n",
    "    # unfortnuatelly I don't know why cv2 doesn't work for with 5D images\n",
    "    if spatial_position:\n",
    "        segmented = lab2rgb(matrix_reshaped.reshape(features.shape)[:, :, :3])\n",
    "    else:\n",
    "        segmented = lab2rgb(matrix_reshaped.reshape(image.shape))\n",
    "\n",
    "    \n",
    "    plt.imshow(segmented)\n",
    "    plt.suptitle(\"Execution Time: {:.2f} seconds and #_clusters =  {}\".format(elapsed_time, str(len(peaks))), y = 1.02)\n",
    "\n",
    "    if spatial_position:\n",
    "        plt.title(\"Image 5D with c = {} and r = {}\".format(c, r), y= 1.02)\n",
    "        plt.savefig(os.path.join('image_plots', path + \"5d_segmented_image_c{}_r{}.png\".format(c, r)),  bbox_inches='tight')\n",
    "    else:\n",
    "        plt.title(\"Image 3D with c = {} and r = {}\".format(c, r),  y= 1.02)\n",
    "        plt.savefig(os.path.join('image_plots', path + \"3d_segmented_image_c{}_r{}.png\".format(c, r)),  bbox_inches='tight')\n",
    "    \n",
    "    plt.show() \n"
   ]
  },
  {
   "cell_type": "markdown",
   "id": "f9a9d743",
   "metadata": {},
   "source": [
    "<br>"
   ]
  },
  {
   "cell_type": "markdown",
   "id": "38775be2",
   "metadata": {},
   "source": [
    "## Test"
   ]
  },
  {
   "cell_type": "markdown",
   "id": "5b32aec5",
   "metadata": {},
   "source": [
    "here you can test the code. Just few information:\n",
    "<li>Punt the name of the file and be sure to be to have the image in the same directory of the notebook</li>\n",
    "<li>False = 3D and True = 5D </li>\n",
    "<li>The third parameter is r</li>\n",
    "<li>The fourth parameter is c</li>"
   ]
  },
  {
   "cell_type": "code",
   "execution_count": null,
   "id": "f8307b2f",
   "metadata": {},
   "outputs": [],
   "source": [
    "pre_processing_and_segmentation('first_image.jpeg', False, 32, 4)"
   ]
  },
  {
   "cell_type": "markdown",
   "id": "cbd1b070",
   "metadata": {},
   "source": [
    "<br>"
   ]
  },
  {
   "cell_type": "markdown",
   "id": "4ad11c41",
   "metadata": {},
   "source": [
    "<br>"
   ]
  },
  {
   "cell_type": "markdown",
   "id": "37b31572",
   "metadata": {},
   "source": [
    "This code is here if you want to see the pixel distribution of your image"
   ]
  },
  {
   "cell_type": "code",
   "execution_count": null,
   "id": "19b83d29",
   "metadata": {},
   "outputs": [],
   "source": [
    "img = plt.imread('london.jpeg')\n",
    "img_arr = img\n",
    "x, y, z = img.shape\n",
    "img_points = np.zeros((x * y, 3))\n",
    "for i in range(x):\n",
    "    for j in range(y):\n",
    "        img_points[i * y + j] = img_arr[i][j]\n",
    "\n",
    "# Plot the 3D point cloud of the RGB image\n",
    "fig = plt.figure(figsize=(8, 8))  # Increase figure size\n",
    "fig.patch.set_facecolor('white')  # Set figure background color to white\n",
    "\n",
    "ax = fig.add_subplot(111, projection='3d')\n",
    "ax.scatter(img_points[:,0], img_points[:,1], img_points[:,2], c=img_points/255.0, s=1, alpha=0.5)\n",
    "\n",
    "ax.set_facecolor('white')  # Set axes background color to white\n",
    "ax.view_init(20, - 60)  # Rotate the plot\n",
    "\n",
    "ax.set_xlabel('Red')\n",
    "ax.set_ylabel('Green')\n",
    "ax.set_zlabel('Blue')\n",
    "\n",
    "plt.savefig(os.path.join('3d_plot_third_image'))\n",
    "\n",
    "plt.show()"
   ]
  },
  {
   "cell_type": "code",
   "execution_count": null,
   "id": "656a95c8",
   "metadata": {},
   "outputs": [],
   "source": []
  }
 ],
 "metadata": {
  "kernelspec": {
   "display_name": "Python 3",
   "language": "python",
   "name": "python3"
  },
  "language_info": {
   "codemirror_mode": {
    "name": "ipython",
    "version": 3
   },
   "file_extension": ".py",
   "mimetype": "text/x-python",
   "name": "python",
   "nbconvert_exporter": "python",
   "pygments_lexer": "ipython3",
   "version": "3.8.8"
  }
 },
 "nbformat": 4,
 "nbformat_minor": 5
}
